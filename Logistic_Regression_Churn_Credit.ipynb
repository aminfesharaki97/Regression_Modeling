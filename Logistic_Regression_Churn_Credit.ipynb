{
 "cells": [
  {
   "cell_type": "markdown",
   "metadata": {},
   "source": [
    "# Generalized Linear Models "
   ]
  },
  {
   "cell_type": "code",
   "execution_count": 2,
   "metadata": {},
   "outputs": [],
   "source": [
    "# Import Libraries\n",
    "import pandas as pd\n",
    "import numpy as np\n",
    "import statsmodels.api as sm\n",
    "from scipy import stats\n",
    "from sklearn.metrics import confusion_matrix"
   ]
  },
  {
   "cell_type": "code",
   "execution_count": 3,
   "metadata": {
    "scrolled": true
   },
   "outputs": [],
   "source": [
    "# Import Data\n",
    "sales_train = pd.read_csv(\n",
    "    \"/Users/datascience/Desktop/ADS 502 Data Sets/Website Data Sets/clothing_sales_training.csv\")\n",
    "sales_test = pd.read_csv(\n",
    "    \"/Users/datascience/Desktop/ADS 502 Data Sets/Website Data Sets/clothing_sales_test.csv\")"
   ]
  },
  {
   "cell_type": "markdown",
   "metadata": {},
   "source": [
    "## 13. Create a logistic regression model to predict whether or not a customer has a store credit card, based on whether they have a web account and the days between purchases. Obtain the summary of the model."
   ]
  },
  {
   "cell_type": "code",
   "execution_count": 4,
   "metadata": {},
   "outputs": [],
   "source": [
    "# Separate variables and add constant\n",
    "X = pd.DataFrame(sales_train[['Days', 'Web']])\n",
    "X = sm.add_constant(X)\n",
    "y = pd.DataFrame(sales_train[['CC']])"
   ]
  },
  {
   "cell_type": "code",
   "execution_count": 5,
   "metadata": {},
   "outputs": [
    {
     "name": "stdout",
     "output_type": "stream",
     "text": [
      "Optimization terminated successfully.\n",
      "         Current function value: 0.655955\n",
      "         Iterations 5\n"
     ]
    }
   ],
   "source": [
    "# Perform Logistic Regression \n",
    "logreg01 = sm.Logit(y, X).fit()"
   ]
  },
  {
   "cell_type": "code",
   "execution_count": 6,
   "metadata": {},
   "outputs": [
    {
     "data": {
      "text/html": [
       "<table class=\"simpletable\">\n",
       "<tr>\n",
       "        <td>Model:</td>              <td>Logit</td>      <td>Pseudo R-squared:</td>    <td>0.053</td>  \n",
       "</tr>\n",
       "<tr>\n",
       "  <td>Dependent Variable:</td>        <td>CC</td>              <td>AIC:</td>         <td>1909.5825</td>\n",
       "</tr>\n",
       "<tr>\n",
       "         <td>Date:</td>        <td>2021-11-22 19:52</td>       <td>BIC:</td>         <td>1925.4226</td>\n",
       "</tr>\n",
       "<tr>\n",
       "   <td>No. Observations:</td>        <td>1451</td>        <td>Log-Likelihood:</td>    <td>-951.79</td> \n",
       "</tr>\n",
       "<tr>\n",
       "       <td>Df Model:</td>              <td>2</td>            <td>LL-Null:</td>        <td>-1004.9</td> \n",
       "</tr>\n",
       "<tr>\n",
       "     <td>Df Residuals:</td>          <td>1448</td>         <td>LLR p-value:</td>    <td>8.3668e-24</td>\n",
       "</tr>\n",
       "<tr>\n",
       "      <td>Converged:</td>           <td>1.0000</td>           <td>Scale:</td>         <td>1.0000</td>  \n",
       "</tr>\n",
       "<tr>\n",
       "    <td>No. Iterations:</td>        <td>5.0000</td>              <td></td>               <td></td>     \n",
       "</tr>\n",
       "</table>\n",
       "<table class=\"simpletable\">\n",
       "<tr>\n",
       "    <td></td>     <th>Coef.</th>  <th>Std.Err.</th>    <th>z</th>     <th>P>|z|</th> <th>[0.025</th>  <th>0.975]</th> \n",
       "</tr>\n",
       "<tr>\n",
       "  <th>const</th> <td>0.4962</td>   <td>0.0887</td>  <td>5.5968</td>  <td>0.0000</td> <td>0.3224</td>  <td>0.6699</td> \n",
       "</tr>\n",
       "<tr>\n",
       "  <th>Days</th>  <td>-0.0037</td>  <td>0.0004</td>  <td>-8.4491</td> <td>0.0000</td> <td>-0.0046</td> <td>-0.0028</td>\n",
       "</tr>\n",
       "<tr>\n",
       "  <th>Web</th>   <td>1.2537</td>   <td>0.3307</td>  <td>3.7914</td>  <td>0.0001</td> <td>0.6056</td>  <td>1.9018</td> \n",
       "</tr>\n",
       "</table>"
      ],
      "text/plain": [
       "<class 'statsmodels.iolib.summary2.Summary'>\n",
       "\"\"\"\n",
       "                         Results: Logit\n",
       "=================================================================\n",
       "Model:              Logit            Pseudo R-squared: 0.053     \n",
       "Dependent Variable: CC               AIC:              1909.5825 \n",
       "Date:               2021-11-22 19:52 BIC:              1925.4226 \n",
       "No. Observations:   1451             Log-Likelihood:   -951.79   \n",
       "Df Model:           2                LL-Null:          -1004.9   \n",
       "Df Residuals:       1448             LLR p-value:      8.3668e-24\n",
       "Converged:          1.0000           Scale:            1.0000    \n",
       "No. Iterations:     5.0000                                       \n",
       "-------------------------------------------------------------------\n",
       "           Coef.    Std.Err.      z      P>|z|     [0.025    0.975]\n",
       "-------------------------------------------------------------------\n",
       "const      0.4962     0.0887    5.5968   0.0000    0.3224    0.6699\n",
       "Days      -0.0037     0.0004   -8.4491   0.0000   -0.0046   -0.0028\n",
       "Web        1.2537     0.3307    3.7914   0.0001    0.6056    1.9018\n",
       "=================================================================\n",
       "\n",
       "\"\"\""
      ]
     },
     "execution_count": 6,
     "metadata": {},
     "output_type": "execute_result"
    }
   ],
   "source": [
    "# Obtain Summary of Logistic Regression Model\n",
    "logreg01.summary2()"
   ]
  },
  {
   "cell_type": "markdown",
   "metadata": {},
   "source": [
    "## 14. Are there any variables that should be removed from the model? If so, remove them and rerun the model."
   ]
  },
  {
   "cell_type": "markdown",
   "metadata": {},
   "source": [
    "According to the p-values shown in the model, both predictor variables belong in the model."
   ]
  },
  {
   "cell_type": "markdown",
   "metadata": {},
   "source": [
    "## 15.  Write the descriptive form of the logistic regression model using the coefficients obtained from Question 1."
   ]
  },
  {
   "cell_type": "markdown",
   "metadata": {},
   "source": [
    "$ \\hat{p}(credit card) = \\frac{exp(0.4962 - 0.0037(Days Between Purchases) + 1.2537(Web Account)}{1 + exp(0.4962 - 0.0037(Days Between Purchases) + 1.2537(Web Account)}$"
   ]
  },
  {
   "cell_type": "markdown",
   "metadata": {},
   "source": [
    "## 16. Validate the model using the test data set."
   ]
  },
  {
   "cell_type": "code",
   "execution_count": 7,
   "metadata": {},
   "outputs": [],
   "source": [
    "# Separate Variables and Add constant to test set\n",
    "X_test = pd.DataFrame(sales_test[['Days', 'Web']])\n",
    "X_test = sm.add_constant(X_test)\n",
    "y_test = pd.DataFrame(sales_test[['CC']])"
   ]
  },
  {
   "cell_type": "code",
   "execution_count": 8,
   "metadata": {},
   "outputs": [
    {
     "name": "stdout",
     "output_type": "stream",
     "text": [
      "Optimization terminated successfully.\n",
      "         Current function value: 0.656885\n",
      "         Iterations 5\n"
     ]
    }
   ],
   "source": [
    "# Perform Logistic Regression \n",
    "logreg01_test = sm.Logit(y_test, X_test).fit()"
   ]
  },
  {
   "cell_type": "code",
   "execution_count": 9,
   "metadata": {},
   "outputs": [
    {
     "data": {
      "text/html": [
       "<table class=\"simpletable\">\n",
       "<tr>\n",
       "        <td>Model:</td>              <td>Logit</td>      <td>Pseudo R-squared:</td>    <td>0.052</td>  \n",
       "</tr>\n",
       "<tr>\n",
       "  <td>Dependent Variable:</td>        <td>CC</td>              <td>AIC:</td>         <td>1838.7104</td>\n",
       "</tr>\n",
       "<tr>\n",
       "         <td>Date:</td>        <td>2021-11-22 19:52</td>       <td>BIC:</td>         <td>1854.4324</td>\n",
       "</tr>\n",
       "<tr>\n",
       "   <td>No. Observations:</td>        <td>1395</td>        <td>Log-Likelihood:</td>    <td>-916.36</td> \n",
       "</tr>\n",
       "<tr>\n",
       "       <td>Df Model:</td>              <td>2</td>            <td>LL-Null:</td>        <td>-966.40</td> \n",
       "</tr>\n",
       "<tr>\n",
       "     <td>Df Residuals:</td>          <td>1392</td>         <td>LLR p-value:</td>    <td>1.8534e-22</td>\n",
       "</tr>\n",
       "<tr>\n",
       "      <td>Converged:</td>           <td>1.0000</td>           <td>Scale:</td>         <td>1.0000</td>  \n",
       "</tr>\n",
       "<tr>\n",
       "    <td>No. Iterations:</td>        <td>5.0000</td>              <td></td>               <td></td>     \n",
       "</tr>\n",
       "</table>\n",
       "<table class=\"simpletable\">\n",
       "<tr>\n",
       "    <td></td>     <th>Coef.</th>  <th>Std.Err.</th>    <th>z</th>     <th>P>|z|</th> <th>[0.025</th>  <th>0.975]</th> \n",
       "</tr>\n",
       "<tr>\n",
       "  <th>const</th> <td>0.4634</td>   <td>0.0873</td>  <td>5.3105</td>  <td>0.0000</td> <td>0.2924</td>  <td>0.6345</td> \n",
       "</tr>\n",
       "<tr>\n",
       "  <th>Days</th>  <td>-0.0035</td>  <td>0.0004</td>  <td>-8.2261</td> <td>0.0000</td> <td>-0.0043</td> <td>-0.0026</td>\n",
       "</tr>\n",
       "<tr>\n",
       "  <th>Web</th>   <td>1.0973</td>   <td>0.2830</td>  <td>3.8780</td>  <td>0.0001</td> <td>0.5427</td>  <td>1.6519</td> \n",
       "</tr>\n",
       "</table>"
      ],
      "text/plain": [
       "<class 'statsmodels.iolib.summary2.Summary'>\n",
       "\"\"\"\n",
       "                         Results: Logit\n",
       "=================================================================\n",
       "Model:              Logit            Pseudo R-squared: 0.052     \n",
       "Dependent Variable: CC               AIC:              1838.7104 \n",
       "Date:               2021-11-22 19:52 BIC:              1854.4324 \n",
       "No. Observations:   1395             Log-Likelihood:   -916.36   \n",
       "Df Model:           2                LL-Null:          -966.40   \n",
       "Df Residuals:       1392             LLR p-value:      1.8534e-22\n",
       "Converged:          1.0000           Scale:            1.0000    \n",
       "No. Iterations:     5.0000                                       \n",
       "-------------------------------------------------------------------\n",
       "           Coef.    Std.Err.      z      P>|z|     [0.025    0.975]\n",
       "-------------------------------------------------------------------\n",
       "const      0.4634     0.0873    5.3105   0.0000    0.2924    0.6345\n",
       "Days      -0.0035     0.0004   -8.2261   0.0000   -0.0043   -0.0026\n",
       "Web        1.0973     0.2830    3.8780   0.0001    0.5427    1.6519\n",
       "=================================================================\n",
       "\n",
       "\"\"\""
      ]
     },
     "execution_count": 9,
     "metadata": {},
     "output_type": "execute_result"
    }
   ],
   "source": [
    "# Obtain Summary of Logistic Regression Model\n",
    "logreg01_test.summary2()"
   ]
  },
  {
   "cell_type": "markdown",
   "metadata": {},
   "source": [
    "The test model confirms that both predictor variables belong in the model "
   ]
  },
  {
   "cell_type": "markdown",
   "metadata": {},
   "source": [
    "## 17. Obtain the predicted values of the response variable for each record in the data set."
   ]
  },
  {
   "cell_type": "code",
   "execution_count": 10,
   "metadata": {},
   "outputs": [
    {
     "data": {
      "text/plain": [
       "0       0.463090\n",
       "1       0.542853\n",
       "2       0.578054\n",
       "3       0.556706\n",
       "4       0.382003\n",
       "          ...   \n",
       "1390    0.538220\n",
       "1391    0.575651\n",
       "1392    0.462169\n",
       "1393    0.544112\n",
       "1394    0.551676\n",
       "Length: 1395, dtype: float64"
      ]
     },
     "execution_count": 10,
     "metadata": {},
     "output_type": "execute_result"
    }
   ],
   "source": [
    "# Obtain Predictions using logistic regression\n",
    "predictions_prob = logreg01.predict(X_test)\n",
    "\n",
    "# Return the prediction probalities of each response variable\n",
    "predictions_prob"
   ]
  },
  {
   "cell_type": "code",
   "execution_count": 11,
   "metadata": {},
   "outputs": [
    {
     "data": {
      "text/plain": [
       "0       0\n",
       "1       1\n",
       "2       1\n",
       "3       1\n",
       "4       0\n",
       "       ..\n",
       "1390    1\n",
       "1391    1\n",
       "1392    0\n",
       "1393    1\n",
       "1394    1\n",
       "Length: 1395, dtype: int64"
      ]
     },
     "execution_count": 11,
     "metadata": {},
     "output_type": "execute_result"
    }
   ],
   "source": [
    "# Return positive values of the class\n",
    "predictions = (logreg01.predict(X_test) > 0.5).astype(int)\n",
    "\n",
    "# Display predictions \n",
    "predictions"
   ]
  },
  {
   "cell_type": "code",
   "execution_count": 12,
   "metadata": {},
   "outputs": [
    {
     "name": "stdout",
     "output_type": "stream",
     "text": [
      "TN:  405 \n",
      "FP:  312 \n",
      "FN:  215 \n",
      "TP:  463\n"
     ]
    },
    {
     "data": {
      "text/plain": [
       "array([[405, 312],\n",
       "       [215, 463]])"
      ]
     },
     "execution_count": 12,
     "metadata": {},
     "output_type": "execute_result"
    }
   ],
   "source": [
    "# Validate Model using a confusion Matrix \n",
    "cm = confusion_matrix(y_test, predictions)\n",
    "TN = cm[0][0]\n",
    "FP = cm[0][1]\n",
    "FN = cm[1][0]\n",
    "TP = cm[1][1]\n",
    "print('TN: ', TN, '\\nFP: ', FP, '\\nFN: ', FN, '\\nTP: ', TP)\n",
    "cm"
   ]
  },
  {
   "cell_type": "code",
   "execution_count": 13,
   "metadata": {},
   "outputs": [
    {
     "name": "stdout",
     "output_type": "stream",
     "text": [
      "Accuracy:  0.6222222222222222 \n",
      "Error Rate:  0.37777777777777777 \n",
      "Sensitivity/Recall:  0.6828908554572272 \n",
      "Specificity:  0.5648535564853556 \n",
      "Precision:  0.5974193548387097\n"
     ]
    }
   ],
   "source": [
    "### Evaluation Measures ###\n",
    "TAN = TN + FP\n",
    "TAP = FN + TP\n",
    "TPN = TN + FN\n",
    "TPP =  FP + TP\n",
    "GT = TN + FP + FN + TP\n",
    "\n",
    "# Accuracy\n",
    "Acc = (TN + TP) / (GT)\n",
    "# Error Rate\n",
    "Error = 1 - Acc\n",
    "# Sensitivity / Recall\n",
    "Sens = TP / TAP\n",
    "#Specificity\n",
    "Spec = TN/ TAN\n",
    "# Precision\n",
    "Prec = TP/TPP\n",
    "print('Accuracy: ', Acc, '\\nError Rate: ', Error, \n",
    "      '\\nSensitivity/Recall: ', Sens, '\\nSpecificity: ', Spec, '\\nPrecision: ', Prec)\n"
   ]
  }
 ],
 "metadata": {
  "kernelspec": {
   "display_name": "Python 3",
   "language": "python",
   "name": "python3"
  },
  "language_info": {
   "codemirror_mode": {
    "name": "ipython",
    "version": 3
   },
   "file_extension": ".py",
   "mimetype": "text/x-python",
   "name": "python",
   "nbconvert_exporter": "python",
   "pygments_lexer": "ipython3",
   "version": "3.8.5"
  }
 },
 "nbformat": 4,
 "nbformat_minor": 4
}
