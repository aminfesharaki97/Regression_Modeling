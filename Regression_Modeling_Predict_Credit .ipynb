{
 "cells": [
  {
   "cell_type": "markdown",
   "metadata": {},
   "source": [
    "# For the following questions, work with the bank_reg_training and the bank_reg_test data sets. Use either Python or R to solve each problem."
   ]
  },
  {
   "cell_type": "code",
   "execution_count": 11,
   "metadata": {},
   "outputs": [],
   "source": [
    "# Importing Libraries\n",
    "import numpy as np\n",
    "import matplotlib.pyplot as plt\n",
    "import pandas as pd\n",
    "import seaborn as sns\n",
    "import statsmodels.api as sm\n",
    "from sklearn.preprocessing import StandardScaler\n",
    "%matplotlib inline"
   ]
  },
  {
   "cell_type": "code",
   "execution_count": 12,
   "metadata": {},
   "outputs": [],
   "source": [
    "# Importing Datasets\n",
    "bank_train = pd.read_csv(\"/Users/datascience/Desktop/ADS 502 Data Sets/Website Data Sets/bank_reg_training.csv\")\n",
    "bank_test = pd.read_csv(\"/Users/datascience/Desktop/ADS 502 Data Sets/Website Data Sets/bank_reg_test.csv\")"
   ]
  },
  {
   "cell_type": "markdown",
   "metadata": {},
   "source": [
    "## 34. Use the training set to run a regression predicting Credit Score, based on Debt‐to‐Income Ratio and Request Amount. Obtain a summary of the model. Do both predictors belong in the model?"
   ]
  },
  {
   "cell_type": "code",
   "execution_count": 13,
   "metadata": {
    "scrolled": false
   },
   "outputs": [
    {
     "data": {
      "text/html": [
       "<table class=\"simpletable\">\n",
       "<caption>OLS Regression Results</caption>\n",
       "<tr>\n",
       "  <th>Dep. Variable:</th>      <td>Credit Score</td>   <th>  R-squared:         </th> <td>   0.028</td> \n",
       "</tr>\n",
       "<tr>\n",
       "  <th>Model:</th>                   <td>OLS</td>       <th>  Adj. R-squared:    </th> <td>   0.028</td> \n",
       "</tr>\n",
       "<tr>\n",
       "  <th>Method:</th>             <td>Least Squares</td>  <th>  F-statistic:       </th> <td>   156.2</td> \n",
       "</tr>\n",
       "<tr>\n",
       "  <th>Date:</th>             <td>Sun, 07 Nov 2021</td> <th>  Prob (F-statistic):</th> <td>1.37e-67</td> \n",
       "</tr>\n",
       "<tr>\n",
       "  <th>Time:</th>                 <td>19:47:16</td>     <th>  Log-Likelihood:    </th> <td> -59972.</td> \n",
       "</tr>\n",
       "<tr>\n",
       "  <th>No. Observations:</th>      <td> 10693</td>      <th>  AIC:               </th> <td>1.199e+05</td>\n",
       "</tr>\n",
       "<tr>\n",
       "  <th>Df Residuals:</th>          <td> 10690</td>      <th>  BIC:               </th> <td>1.200e+05</td>\n",
       "</tr>\n",
       "<tr>\n",
       "  <th>Df Model:</th>              <td>     2</td>      <th>                     </th>     <td> </td>    \n",
       "</tr>\n",
       "<tr>\n",
       "  <th>Covariance Type:</th>      <td>nonrobust</td>    <th>                     </th>     <td> </td>    \n",
       "</tr>\n",
       "</table>\n",
       "<table class=\"simpletable\">\n",
       "<tr>\n",
       "            <td></td>              <th>coef</th>     <th>std err</th>      <th>t</th>      <th>P>|t|</th>  <th>[0.025</th>    <th>0.975]</th>  \n",
       "</tr>\n",
       "<tr>\n",
       "  <th>const</th>                <td>  668.4562</td> <td>    1.336</td> <td>  500.275</td> <td> 0.000</td> <td>  665.837</td> <td>  671.075</td>\n",
       "</tr>\n",
       "<tr>\n",
       "  <th>Debt-to-Income Ratio</th> <td>  -48.1262</td> <td>    4.785</td> <td>  -10.058</td> <td> 0.000</td> <td>  -57.505</td> <td>  -38.747</td>\n",
       "</tr>\n",
       "<tr>\n",
       "  <th>Request Amount</th>       <td>    0.0011</td> <td> 6.84e-05</td> <td>   15.727</td> <td> 0.000</td> <td>    0.001</td> <td>    0.001</td>\n",
       "</tr>\n",
       "</table>\n",
       "<table class=\"simpletable\">\n",
       "<tr>\n",
       "  <th>Omnibus:</th>       <td>1658.575</td> <th>  Durbin-Watson:     </th> <td>   1.991</td>\n",
       "</tr>\n",
       "<tr>\n",
       "  <th>Prob(Omnibus):</th>  <td> 0.000</td>  <th>  Jarque-Bera (JB):  </th> <td>2844.250</td>\n",
       "</tr>\n",
       "<tr>\n",
       "  <th>Skew:</th>           <td>-1.021</td>  <th>  Prob(JB):          </th> <td>    0.00</td>\n",
       "</tr>\n",
       "<tr>\n",
       "  <th>Kurtosis:</th>       <td> 4.487</td>  <th>  Cond. No.          </th> <td>1.24e+05</td>\n",
       "</tr>\n",
       "</table><br/><br/>Notes:<br/>[1] Standard Errors assume that the covariance matrix of the errors is correctly specified.<br/>[2] The condition number is large, 1.24e+05. This might indicate that there are<br/>strong multicollinearity or other numerical problems."
      ],
      "text/plain": [
       "<class 'statsmodels.iolib.summary.Summary'>\n",
       "\"\"\"\n",
       "                            OLS Regression Results                            \n",
       "==============================================================================\n",
       "Dep. Variable:           Credit Score   R-squared:                       0.028\n",
       "Model:                            OLS   Adj. R-squared:                  0.028\n",
       "Method:                 Least Squares   F-statistic:                     156.2\n",
       "Date:                Sun, 07 Nov 2021   Prob (F-statistic):           1.37e-67\n",
       "Time:                        19:47:16   Log-Likelihood:                -59972.\n",
       "No. Observations:               10693   AIC:                         1.199e+05\n",
       "Df Residuals:                   10690   BIC:                         1.200e+05\n",
       "Df Model:                           2                                         \n",
       "Covariance Type:            nonrobust                                         \n",
       "========================================================================================\n",
       "                           coef    std err          t      P>|t|      [0.025      0.975]\n",
       "----------------------------------------------------------------------------------------\n",
       "const                  668.4562      1.336    500.275      0.000     665.837     671.075\n",
       "Debt-to-Income Ratio   -48.1262      4.785    -10.058      0.000     -57.505     -38.747\n",
       "Request Amount           0.0011   6.84e-05     15.727      0.000       0.001       0.001\n",
       "==============================================================================\n",
       "Omnibus:                     1658.575   Durbin-Watson:                   1.991\n",
       "Prob(Omnibus):                  0.000   Jarque-Bera (JB):             2844.250\n",
       "Skew:                          -1.021   Prob(JB):                         0.00\n",
       "Kurtosis:                       4.487   Cond. No.                     1.24e+05\n",
       "==============================================================================\n",
       "\n",
       "Notes:\n",
       "[1] Standard Errors assume that the covariance matrix of the errors is correctly specified.\n",
       "[2] The condition number is large, 1.24e+05. This might indicate that there are\n",
       "strong multicollinearity or other numerical problems.\n",
       "\"\"\""
      ]
     },
     "execution_count": 13,
     "metadata": {},
     "output_type": "execute_result"
    }
   ],
   "source": [
    "# Seperate Predictor variables and Target Variables \n",
    "X = pd.DataFrame(bank_train[['Debt-to-Income Ratio', 'Request Amount']]) # Predictors\n",
    "y = pd.DataFrame(bank_train[['Credit Score']]) # Target Variable \n",
    "\n",
    "\n",
    "#Add Constant variable to the predictors \n",
    "X = sm.add_constant(X)\n",
    "\n",
    "# Multiple Regression Model using Ordinary Least Squares method\n",
    "RegModel = sm.OLS(y, X).fit()\n",
    "\n",
    "# Display Summary Regression Model\n",
    "RegModel.summary()"
   ]
  },
  {
   "cell_type": "markdown",
   "metadata": {},
   "source": [
    "Both independent variables are statistically significant(p-values) with a low R-squared value indicates that the independent variables are correlated with the dependent variable. In addition, the adjusted R-squared value is the same value as the R^squared value; this shows that there are no useless predictor variables to the model. Therefore, both predictors belong in the model."
   ]
  },
  {
   "cell_type": "markdown",
   "metadata": {},
   "source": [
    "## 35. Validate the model from the previous exercise."
   ]
  },
  {
   "cell_type": "code",
   "execution_count": 14,
   "metadata": {
    "scrolled": true
   },
   "outputs": [
    {
     "data": {
      "text/html": [
       "<table class=\"simpletable\">\n",
       "<caption>OLS Regression Results</caption>\n",
       "<tr>\n",
       "  <th>Dep. Variable:</th>      <td>Credit Score</td>   <th>  R-squared:         </th> <td>   0.038</td> \n",
       "</tr>\n",
       "<tr>\n",
       "  <th>Model:</th>                   <td>OLS</td>       <th>  Adj. R-squared:    </th> <td>   0.038</td> \n",
       "</tr>\n",
       "<tr>\n",
       "  <th>Method:</th>             <td>Least Squares</td>  <th>  F-statistic:       </th> <td>   215.4</td> \n",
       "</tr>\n",
       "<tr>\n",
       "  <th>Date:</th>             <td>Sun, 07 Nov 2021</td> <th>  Prob (F-statistic):</th> <td>1.94e-92</td> \n",
       "</tr>\n",
       "<tr>\n",
       "  <th>Time:</th>                 <td>19:47:16</td>     <th>  Log-Likelihood:    </th> <td> -60395.</td> \n",
       "</tr>\n",
       "<tr>\n",
       "  <th>No. Observations:</th>      <td> 10775</td>      <th>  AIC:               </th> <td>1.208e+05</td>\n",
       "</tr>\n",
       "<tr>\n",
       "  <th>Df Residuals:</th>          <td> 10772</td>      <th>  BIC:               </th> <td>1.208e+05</td>\n",
       "</tr>\n",
       "<tr>\n",
       "  <th>Df Model:</th>              <td>     2</td>      <th>                     </th>     <td> </td>    \n",
       "</tr>\n",
       "<tr>\n",
       "  <th>Covariance Type:</th>      <td>nonrobust</td>    <th>                     </th>     <td> </td>    \n",
       "</tr>\n",
       "</table>\n",
       "<table class=\"simpletable\">\n",
       "<tr>\n",
       "            <td></td>              <th>coef</th>     <th>std err</th>      <th>t</th>      <th>P>|t|</th>  <th>[0.025</th>    <th>0.975]</th>  \n",
       "</tr>\n",
       "<tr>\n",
       "  <th>const</th>                <td>  665.4987</td> <td>    1.328</td> <td>  501.265</td> <td> 0.000</td> <td>  662.896</td> <td>  668.101</td>\n",
       "</tr>\n",
       "<tr>\n",
       "  <th>Debt-to-Income Ratio</th> <td>  -52.1374</td> <td>    4.826</td> <td>  -10.803</td> <td> 0.000</td> <td>  -61.597</td> <td>  -42.677</td>\n",
       "</tr>\n",
       "<tr>\n",
       "  <th>Request Amount</th>       <td>    0.0013</td> <td> 6.85e-05</td> <td>   19.013</td> <td> 0.000</td> <td>    0.001</td> <td>    0.001</td>\n",
       "</tr>\n",
       "</table>\n",
       "<table class=\"simpletable\">\n",
       "<tr>\n",
       "  <th>Omnibus:</th>       <td>1792.693</td> <th>  Durbin-Watson:     </th> <td>   1.985</td>\n",
       "</tr>\n",
       "<tr>\n",
       "  <th>Prob(Omnibus):</th>  <td> 0.000</td>  <th>  Jarque-Bera (JB):  </th> <td>3194.120</td>\n",
       "</tr>\n",
       "<tr>\n",
       "  <th>Skew:</th>           <td>-1.067</td>  <th>  Prob(JB):          </th> <td>    0.00</td>\n",
       "</tr>\n",
       "<tr>\n",
       "  <th>Kurtosis:</th>       <td> 4.600</td>  <th>  Cond. No.          </th> <td>1.25e+05</td>\n",
       "</tr>\n",
       "</table><br/><br/>Notes:<br/>[1] Standard Errors assume that the covariance matrix of the errors is correctly specified.<br/>[2] The condition number is large, 1.25e+05. This might indicate that there are<br/>strong multicollinearity or other numerical problems."
      ],
      "text/plain": [
       "<class 'statsmodels.iolib.summary.Summary'>\n",
       "\"\"\"\n",
       "                            OLS Regression Results                            \n",
       "==============================================================================\n",
       "Dep. Variable:           Credit Score   R-squared:                       0.038\n",
       "Model:                            OLS   Adj. R-squared:                  0.038\n",
       "Method:                 Least Squares   F-statistic:                     215.4\n",
       "Date:                Sun, 07 Nov 2021   Prob (F-statistic):           1.94e-92\n",
       "Time:                        19:47:16   Log-Likelihood:                -60395.\n",
       "No. Observations:               10775   AIC:                         1.208e+05\n",
       "Df Residuals:                   10772   BIC:                         1.208e+05\n",
       "Df Model:                           2                                         \n",
       "Covariance Type:            nonrobust                                         \n",
       "========================================================================================\n",
       "                           coef    std err          t      P>|t|      [0.025      0.975]\n",
       "----------------------------------------------------------------------------------------\n",
       "const                  665.4987      1.328    501.265      0.000     662.896     668.101\n",
       "Debt-to-Income Ratio   -52.1374      4.826    -10.803      0.000     -61.597     -42.677\n",
       "Request Amount           0.0013   6.85e-05     19.013      0.000       0.001       0.001\n",
       "==============================================================================\n",
       "Omnibus:                     1792.693   Durbin-Watson:                   1.985\n",
       "Prob(Omnibus):                  0.000   Jarque-Bera (JB):             3194.120\n",
       "Skew:                          -1.067   Prob(JB):                         0.00\n",
       "Kurtosis:                       4.600   Cond. No.                     1.25e+05\n",
       "==============================================================================\n",
       "\n",
       "Notes:\n",
       "[1] Standard Errors assume that the covariance matrix of the errors is correctly specified.\n",
       "[2] The condition number is large, 1.25e+05. This might indicate that there are\n",
       "strong multicollinearity or other numerical problems.\n",
       "\"\"\""
      ]
     },
     "execution_count": 14,
     "metadata": {},
     "output_type": "execute_result"
    }
   ],
   "source": [
    "## Verify the Regression Model Results ##\n",
    "\n",
    "# Seperate Predictor variables and Target Variables \n",
    "X_test = pd.DataFrame(bank_test[['Debt-to-Income Ratio', 'Request Amount']]) # Predictors\n",
    "y_test = pd.DataFrame(bank_test[['Credit Score']]) # Target Variable \n",
    "\n",
    "\n",
    "#Add Constant variable to the predictors \n",
    "X_test = sm.add_constant(X_test)\n",
    "\n",
    "# Multiple Regression Model using Ordinary Least Squares method\n",
    "RegModel_test = sm.OLS(y_test, X_test).fit()\n",
    "\n",
    "# Display Summary Regression Model\n",
    "RegModel_test.summary()"
   ]
  },
  {
   "cell_type": "markdown",
   "metadata": {},
   "source": [
    "Regression Model using training data and the Regression Model using testing data exhibit similar summary results. Therefore, these results validate the results from the model using the training data."
   ]
  },
  {
   "cell_type": "markdown",
   "metadata": {},
   "source": [
    "## 36. Use the regression equation to complete this sentence: “The estimated Credit Score equals....”"
   ]
  },
  {
   "cell_type": "markdown",
   "metadata": {},
   "source": [
    "The estimated Credit Score equals 668.4562 - 48.1262(Debt-to-Income Ratio) + 0.0011(Request Amount)\n"
   ]
  },
  {
   "cell_type": "markdown",
   "metadata": {},
   "source": [
    "## 37. Interpret the coefficient for Debt‐to‐Income Ratio."
   ]
  },
  {
   "cell_type": "markdown",
   "metadata": {},
   "source": [
    "The estimated decrease in Credit Score with a Debt-to-Income Ratio is -48.1262, when Request Amount is held constant.  However, generally the debt to income ratio doesn't impact your credit scores, but it is a factor when deciding to approve credit applications."
   ]
  },
  {
   "cell_type": "markdown",
   "metadata": {},
   "source": [
    "## 38. Interpret the coefficient for Request Amount."
   ]
  },
  {
   "cell_type": "markdown",
   "metadata": {},
   "source": [
    "The estimated increase in Credit Score with a Request Amount is 0.0011, when Request Amount is held constant. This makes sense since Request Amount generally affects whether or not the loan application is approved. Morevoer, applying for loans (i.e., request amount) can temporarily knock a few points off the credit score. Therefore, the low contribution towards credit score is valid. "
   ]
  },
  {
   "cell_type": "markdown",
   "metadata": {},
   "source": [
    "## 39. Find and interpret the value of s."
   ]
  },
  {
   "cell_type": "code",
   "execution_count": 15,
   "metadata": {},
   "outputs": [
    {
     "name": "stdout",
     "output_type": "stream",
     "text": [
      "The standard error of the estime equals to  66.00195259717187\n"
     ]
    }
   ],
   "source": [
    "# Calculating Standard Error\n",
    "s = np.sqrt(RegModel.scale)\n",
    "print(\"The standard error of the estime equals to \", s)"
   ]
  },
  {
   "cell_type": "markdown",
   "metadata": {},
   "source": [
    "The size of the model's typical prediction error is about 66.02 (when predicting Credit Score with Debt-to-Income Ratio and Request Amount). "
   ]
  },
  {
   "cell_type": "markdown",
   "metadata": {},
   "source": [
    "## 40. Find and interpret R-squared-adjusted. Comment."
   ]
  },
  {
   "cell_type": "markdown",
   "metadata": {},
   "source": [
    "The R-squared-adjusted has a value of 0.028. Thus, 2.8% of the variability in Credit Score is accounted by the predictors Debt-to-Income Ratio and Request Amount. Determining Credit Score incorporates many other factors, therefore the regression model's small R-squared-adjusted proportion makes sense."
   ]
  },
  {
   "cell_type": "markdown",
   "metadata": {},
   "source": [
    "## 41. Find MAE_Baseline and MAE_Regression, and determine whether the regression model outperformed its baseline model."
   ]
  },
  {
   "cell_type": "code",
   "execution_count": 16,
   "metadata": {},
   "outputs": [
    {
     "name": "stdout",
     "output_type": "stream",
     "text": [
      "The MAE for the Baseline Model is equal to  48.60024069638013\n",
      "The MAE for the Regression Model is equal to  47.79066993785576\n"
     ]
    }
   ],
   "source": [
    "from sklearn.metrics import mean_absolute_error #import to use Mean Absolute Error\n",
    "\n",
    "### MAE Baseline ### (using testing dataset)\n",
    "y_bar= bank_test['Credit Score'].mean()\n",
    "ypred = 673.3147099767981\n",
    "ytrue = bank_test['Credit Score']\n",
    "\n",
    "\n",
    "# Calculate errors for the baseline model using the average of credit scores in testing set\n",
    "y_bar = bank_test['Credit Score'].mean()\n",
    "\n",
    "# Compute MAE_Baseline\n",
    "\n",
    "def mae(ytrue): #Creating a function to calculate MAE_baseline\n",
    "\tsum_error = 0.0\n",
    "\tfor i in range(len(ytrue)):\n",
    "\t\tsum_error += abs(ytrue[i] - y_bar)\n",
    "\treturn sum_error / float(len(ytrue))\n",
    "\n",
    "ytrue = bank_test['Credit Score']\n",
    "MAE_baseline = mae(ytrue)\n",
    "\n",
    "\n",
    "### The MAE_Regreession ### (obtained by passing the test data through the model developed by the training set)\n",
    "\n",
    "ypred_R = RegModel.predict(X_test) # Obtain Predicted Values\n",
    "ytrue_R = bank_test['Credit Score'] # Obtain True Values\n",
    "\n",
    "MAE_Regression = mean_absolute_error(ytrue_R, ypred_R) # Calculating MAE\n",
    "\n",
    "# Print both MAE Scores\n",
    "print('The MAE for the Baseline Model is equal to ', MAE_baseline)\n",
    "print('The MAE for the Regression Model is equal to ', MAE_Regression)"
   ]
  },
  {
   "cell_type": "markdown",
   "metadata": {},
   "source": [
    "Since 47.79 = MAE_Regression < MAE_Baseline = 48.60, the regression model outperformed the baseline model. "
   ]
  },
  {
   "cell_type": "code",
   "execution_count": null,
   "metadata": {},
   "outputs": [],
   "source": []
  }
 ],
 "metadata": {
  "kernelspec": {
   "display_name": "Python 3",
   "language": "python",
   "name": "python3"
  },
  "language_info": {
   "codemirror_mode": {
    "name": "ipython",
    "version": 3
   },
   "file_extension": ".py",
   "mimetype": "text/x-python",
   "name": "python",
   "nbconvert_exporter": "python",
   "pygments_lexer": "ipython3",
   "version": "3.8.5"
  }
 },
 "nbformat": 4,
 "nbformat_minor": 4
}
