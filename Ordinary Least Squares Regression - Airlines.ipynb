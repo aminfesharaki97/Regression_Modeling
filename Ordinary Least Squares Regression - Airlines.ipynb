{
 "cells": [
  {
   "cell_type": "code",
   "execution_count": 1,
   "metadata": {},
   "outputs": [],
   "source": [
    "#Import Libraries\n",
    "import numpy as np\n",
    "import pandas as pd\n",
    "import statsmodels.api as sm\n",
    "import matplotlib.pyplot as plt"
   ]
  },
  {
   "cell_type": "code",
   "execution_count": 2,
   "metadata": {},
   "outputs": [],
   "source": [
    "#Use a linear regression model to predict the number of customers each airline serves from\n",
    "#its length of flight and daily flight time per plane.\n",
    "#Next, build another regression model to predict the total assets of an airline from the customers served \n",
    "#by the airline. Do you have any insight about the data from the last two regression models?"
   ]
  },
  {
   "cell_type": "code",
   "execution_count": 3,
   "metadata": {},
   "outputs": [
    {
     "data": {
      "text/html": [
       "<div>\n",
       "<style scoped>\n",
       "    .dataframe tbody tr th:only-of-type {\n",
       "        vertical-align: middle;\n",
       "    }\n",
       "\n",
       "    .dataframe tbody tr th {\n",
       "        vertical-align: top;\n",
       "    }\n",
       "\n",
       "    .dataframe thead th {\n",
       "        text-align: right;\n",
       "    }\n",
       "</style>\n",
       "<table border=\"1\" class=\"dataframe\">\n",
       "  <thead>\n",
       "    <tr style=\"text-align: right;\">\n",
       "      <th></th>\n",
       "      <th>Airline</th>\n",
       "      <th>FlightLength</th>\n",
       "      <th>PlaneSpeed</th>\n",
       "      <th>DailyFlightTime</th>\n",
       "      <th>CustomersServed</th>\n",
       "      <th>TotalOperatingCost</th>\n",
       "      <th>Revenue</th>\n",
       "      <th>LoadFactor</th>\n",
       "      <th>AvailableCapacity</th>\n",
       "      <th>TotalAssets</th>\n",
       "      <th>Investments</th>\n",
       "      <th>AdjustedAssets</th>\n",
       "    </tr>\n",
       "  </thead>\n",
       "  <tbody>\n",
       "    <tr>\n",
       "      <th>0</th>\n",
       "      <td>All-American</td>\n",
       "      <td>57</td>\n",
       "      <td>133</td>\n",
       "      <td>6.10</td>\n",
       "      <td>20200</td>\n",
       "      <td>116.3</td>\n",
       "      <td>0.96</td>\n",
       "      <td>0.400</td>\n",
       "      <td>2.400</td>\n",
       "      <td>21.13</td>\n",
       "      <td>3.21</td>\n",
       "      <td>17.92</td>\n",
       "    </tr>\n",
       "    <tr>\n",
       "      <th>1</th>\n",
       "      <td>American</td>\n",
       "      <td>270</td>\n",
       "      <td>216</td>\n",
       "      <td>6.93</td>\n",
       "      <td>56928</td>\n",
       "      <td>43.0</td>\n",
       "      <td>3.98</td>\n",
       "      <td>0.689</td>\n",
       "      <td>5.776</td>\n",
       "      <td>1436.53</td>\n",
       "      <td>165.22</td>\n",
       "      <td>1271.31</td>\n",
       "    </tr>\n",
       "    <tr>\n",
       "      <th>2</th>\n",
       "      <td>Bonanza</td>\n",
       "      <td>100</td>\n",
       "      <td>140</td>\n",
       "      <td>4.45</td>\n",
       "      <td>183</td>\n",
       "      <td>141.5</td>\n",
       "      <td>0.79</td>\n",
       "      <td>0.358</td>\n",
       "      <td>2.207</td>\n",
       "      <td>6.65</td>\n",
       "      <td>0.01</td>\n",
       "      <td>6.64</td>\n",
       "    </tr>\n",
       "    <tr>\n",
       "      <th>3</th>\n",
       "      <td>Braniff</td>\n",
       "      <td>176</td>\n",
       "      <td>182</td>\n",
       "      <td>6.60</td>\n",
       "      <td>11869</td>\n",
       "      <td>50.6</td>\n",
       "      <td>2.57</td>\n",
       "      <td>0.557</td>\n",
       "      <td>4.614</td>\n",
       "      <td>160.30</td>\n",
       "      <td>5.81</td>\n",
       "      <td>154.49</td>\n",
       "    </tr>\n",
       "    <tr>\n",
       "      <th>4</th>\n",
       "      <td>Capital</td>\n",
       "      <td>142</td>\n",
       "      <td>167</td>\n",
       "      <td>7.47</td>\n",
       "      <td>41097</td>\n",
       "      <td>51.0</td>\n",
       "      <td>2.68</td>\n",
       "      <td>0.510</td>\n",
       "      <td>5.255</td>\n",
       "      <td>195.02</td>\n",
       "      <td>6.06</td>\n",
       "      <td>188.96</td>\n",
       "    </tr>\n",
       "  </tbody>\n",
       "</table>\n",
       "</div>"
      ],
      "text/plain": [
       "        Airline  FlightLength  PlaneSpeed  DailyFlightTime  CustomersServed  \\\n",
       "0  All-American            57         133             6.10            20200   \n",
       "1      American           270         216             6.93            56928   \n",
       "2       Bonanza           100         140             4.45              183   \n",
       "3       Braniff           176         182             6.60            11869   \n",
       "4       Capital           142         167             7.47            41097   \n",
       "\n",
       "   TotalOperatingCost  Revenue  LoadFactor  AvailableCapacity  TotalAssets  \\\n",
       "0               116.3     0.96       0.400              2.400        21.13   \n",
       "1                43.0     3.98       0.689              5.776      1436.53   \n",
       "2               141.5     0.79       0.358              2.207         6.65   \n",
       "3                50.6     2.57       0.557              4.614       160.30   \n",
       "4                51.0     2.68       0.510              5.255       195.02   \n",
       "\n",
       "   Investments  AdjustedAssets  \n",
       "0         3.21           17.92  \n",
       "1       165.22         1271.31  \n",
       "2         0.01            6.64  \n",
       "3         5.81          154.49  \n",
       "4         6.06          188.96  "
      ]
     },
     "execution_count": 3,
     "metadata": {},
     "output_type": "execute_result"
    }
   ],
   "source": [
    "# Import the weight file into Pandas\n",
    "Data = pd.read_csv('/Users/datascience/Desktop/Data Science/Python/Airplane Cost Dataset.csv', header=0, sep=',')\n",
    "\n",
    "# Calling the pandas data frame\n",
    "df = pd.DataFrame(Data)\n",
    "\n",
    "# Preview of Data Set\n",
    "df.head()"
   ]
  },
  {
   "cell_type": "code",
   "execution_count": 4,
   "metadata": {},
   "outputs": [
    {
     "name": "stdout",
     "output_type": "stream",
     "text": [
      "Airline               0\n",
      "FlightLength          0\n",
      "PlaneSpeed            0\n",
      "DailyFlightTime       0\n",
      "CustomersServed       0\n",
      "TotalOperatingCost    0\n",
      "Revenue               0\n",
      "LoadFactor            0\n",
      "AvailableCapacity     0\n",
      "TotalAssets           0\n",
      "Investments           0\n",
      "AdjustedAssets        0\n",
      "dtype: int64\n",
      "Total number of missing values =  0\n"
     ]
    }
   ],
   "source": [
    "# Identify the Count of missing values per column\n",
    "print (df.isnull().sum())\n",
    "print('Total number of missing values = ', df.isnull().sum().sum())"
   ]
  },
  {
   "cell_type": "code",
   "execution_count": 5,
   "metadata": {},
   "outputs": [
    {
     "name": "stdout",
     "output_type": "stream",
     "text": [
      "                            OLS Regression Results                            \n",
      "==============================================================================\n",
      "Dep. Variable:        CustomersServed   R-squared:                       0.622\n",
      "Model:                            OLS   Adj. R-squared:                  0.595\n",
      "Method:                 Least Squares   F-statistic:                     23.00\n",
      "Date:                Mon, 09 Aug 2021   Prob (F-statistic):           1.23e-06\n",
      "Time:                        18:02:19   Log-Likelihood:                -330.06\n",
      "No. Observations:                  31   AIC:                             666.1\n",
      "Df Residuals:                      28   BIC:                             670.4\n",
      "Df Model:                           2                                         \n",
      "Covariance Type:            nonrobust                                         \n",
      "===================================================================================\n",
      "                      coef    std err          t      P>|t|      [0.025      0.975]\n",
      "-----------------------------------------------------------------------------------\n",
      "const           -7792.0706   8396.998     -0.928      0.361    -2.5e+04    9408.401\n",
      "FlightLength      183.2956     30.414      6.027      0.000     120.995     245.596\n",
      "DailyFlightTime  -213.3340   1436.955     -0.148      0.883   -3156.803    2730.134\n",
      "==============================================================================\n",
      "Omnibus:                        2.469   Durbin-Watson:                   1.894\n",
      "Prob(Omnibus):                  0.291   Jarque-Bera (JB):                1.851\n",
      "Skew:                           0.598   Prob(JB):                        0.396\n",
      "Kurtosis:                       2.931   Cond. No.                         653.\n",
      "==============================================================================\n",
      "\n",
      "Notes:\n",
      "[1] Standard Errors assume that the covariance matrix of the errors is correctly specified.\n"
     ]
    }
   ],
   "source": [
    "#Linear Regression to predict the number of customers each airline serves from its length of flight and daily flight time per plane.\n",
    "\n",
    "#pulls number of customers, length of flight, and daily flight time per plane values from Airplane database\n",
    "X = df[['FlightLength','DailyFlightTime']] #2 variables for multiple regression\n",
    "Y = df['CustomersServed'] #response variable\n",
    "\n",
    "X = sm.add_constant(X) # adding a constant\n",
    "CustomerModel = sm.OLS(Y, X).fit() #Fitted ordinary least squares regression model\n",
    "CustomerPrediction = CustomerModel.predict(X)\n",
    "\n",
    "PrintModel = CustomerModel.summary() #display regression results\n",
    "print(PrintModel)"
   ]
  },
  {
   "cell_type": "code",
   "execution_count": 6,
   "metadata": {},
   "outputs": [],
   "source": [
    "##Constant Coefficient is the Y intercept, in other words, if FlightLength and DailyFlightTime are both 0,\n",
    "##then the expected output of Customers served equals -7792.0706\n",
    "\n",
    "##Flight Length coefficient represents the change in the output of Customers Served due to a change of one unit\n",
    "##in the Flight Length (if everything else was held constant). The same goes for Daily Flight Time\n",
    "\n",
    "##P>|t| is the p-value (pvalue < 0.05 is considered statistically significant)\n",
    "\n",
    "##Adjusted R-squared reflects the fit model (range 0 to 1). The higher value generally indicates a better fit \n",
    "## Too high of an Adjusted R-squared value raises overfitting concerns\n",
    "\n",
    "### Linear Regression Equation to predict # of customers based on Flight Length and Daily Flight Time Per Plane\n",
    "###(Customers Served) = (-7792.0706) + (183.2956)(Flight Length) - (213.3340)(Daily Flight Time Per Plane)###\n"
   ]
  },
  {
   "cell_type": "code",
   "execution_count": 7,
   "metadata": {},
   "outputs": [],
   "source": [
    "#Assigning variables to plot with\n",
    "X1=df['FlightLength']\n",
    "X2=df['DailyFlightTime']"
   ]
  },
  {
   "cell_type": "code",
   "execution_count": 8,
   "metadata": {},
   "outputs": [
    {
     "data": {
      "text/plain": [
       "Text(0.5, 1.0, 'Customers predicted based on Flight Length')"
      ]
     },
     "execution_count": 8,
     "metadata": {},
     "output_type": "execute_result"
    },
    {
     "data": {
      "image/png": "[encoded data removed]",
      "text/plain": [
       "<Figure size 432x288 with 1 Axes>"
      ]
     },
     "metadata": {
      "needs_background": "light"
     },
     "output_type": "display_data"
    }
   ],
   "source": [
    "plt.scatter(X1, CustomerPrediction) #plots predicted customer against Flight Length\n",
    "plt.xlabel(\"Flight Legnth in Miles\")\n",
    "plt.ylabel(\"Predicted Customers Served (in 1000s) \")\n",
    "plt.title(\"Customers predicted based on Flight Length\")"
   ]
  },
  {
   "cell_type": "code",
   "execution_count": 9,
   "metadata": {},
   "outputs": [
    {
     "data": {
      "text/plain": [
       "Text(0.5, 1.0, 'Customers predicted based on Daily Flight Time Per Plane')"
      ]
     },
     "execution_count": 9,
     "metadata": {},
     "output_type": "execute_result"
    },
    {
     "data": {
      "image/png": "[encoded data removed]",
      "text/plain": [
       "<Figure size 432x288 with 1 Axes>"
      ]
     },
     "metadata": {
      "needs_background": "light"
     },
     "output_type": "display_data"
    }
   ],
   "source": [
    "plt.scatter(X2, CustomerPrediction) #plots predicted customers against Daily Flight Time\n",
    "plt.xlabel(\"Daily Flight Time (in hours)\")\n",
    "plt.ylabel(\"Predicted Customers Served (in 1000s) \")\n",
    "plt.title(\"Customers predicted based on Daily Flight Time Per Plane\")"
   ]
  },
  {
   "cell_type": "code",
   "execution_count": 10,
   "metadata": {},
   "outputs": [
    {
     "name": "stdout",
     "output_type": "stream",
     "text": [
      "                            OLS Regression Results                            \n",
      "==============================================================================\n",
      "Dep. Variable:            TotalAssets   R-squared:                       0.819\n",
      "Model:                            OLS   Adj. R-squared:                  0.812\n",
      "Method:                 Least Squares   F-statistic:                     130.9\n",
      "Date:                Mon, 09 Aug 2021   Prob (F-statistic):           2.85e-12\n",
      "Time:                        18:02:20   Log-Likelihood:                -202.95\n",
      "No. Observations:                  31   AIC:                             409.9\n",
      "Df Residuals:                      29   BIC:                             412.8\n",
      "Df Model:                           1                                         \n",
      "Covariance Type:            nonrobust                                         \n",
      "===================================================================================\n",
      "                      coef    std err          t      P>|t|      [0.025      0.975]\n",
      "-----------------------------------------------------------------------------------\n",
      "const             -98.5080     41.633     -2.366      0.025    -183.656     -13.360\n",
      "CustomersServed     0.0217      0.002     11.442      0.000       0.018       0.026\n",
      "==============================================================================\n",
      "Omnibus:                       18.279   Durbin-Watson:                   1.745\n",
      "Prob(Omnibus):                  0.000   Jarque-Bera (JB):               24.501\n",
      "Skew:                          -1.486   Prob(JB):                     4.78e-06\n",
      "Kurtosis:                       6.183   Cond. No.                     2.92e+04\n",
      "==============================================================================\n",
      "\n",
      "Notes:\n",
      "[1] Standard Errors assume that the covariance matrix of the errors is correctly specified.\n",
      "[2] The condition number is large, 2.92e+04. This might indicate that there are\n",
      "strong multicollinearity or other numerical problems.\n"
     ]
    }
   ],
   "source": [
    "#Regression model to predict the total assets of an airline from the customers served by the airline.\n",
    "\n",
    "#pulls total assests and customers served by the airline from Airplane database\n",
    "x = df['CustomersServed'] #predictor variable\n",
    "y = df['TotalAssets'] #response variable\n",
    "\n",
    "x = sm.add_constant(x) # adding a constant\n",
    "AssetModel = sm.OLS(y, x).fit() #Fitted ordinary least squares regression model\n",
    "TotalAssetPrediction = AssetModel.predict(x)\n",
    "\n",
    "Printmodel = AssetModel.summary() #display regression results\n",
    "print(Printmodel)\n"
   ]
  },
  {
   "cell_type": "code",
   "execution_count": 11,
   "metadata": {},
   "outputs": [],
   "source": [
    "##Constant Coefficient is the Y intercept, in other words, if FlightLength and DailyFlightTime are both 0,\n",
    "##then the expected output of Customers served equals -7792.0706\n",
    "\n",
    "##CustomersServed coefficient represents the change in the output of Customers Served due to a change of one unit\n",
    "##in the CustomersServed (if everything else was held constant). \n",
    "\n",
    "##P>|t| is the p-value (pvalue < 0.05 is considered statistically significant)\n",
    "\n",
    "##Adjusted R-squared reflects the fit model (range 0 to 1). The higher value generally indicates a better fit \n",
    "## Too high of an Adjusted R-squared value raises overfitting concerns\n",
    "\n",
    "### Linear Regression Equation to predict # of Total Assests based on Customers Served\n",
    "###(Total Assets) = (-98.5080) + (0.0217)(CustomersServed)###\n"
   ]
  },
  {
   "cell_type": "code",
   "execution_count": 12,
   "metadata": {},
   "outputs": [
    {
     "data": {
      "text/plain": [
       "Text(0.5, 1.0, 'Total Assets predicted based on Customers Served')"
      ]
     },
     "execution_count": 12,
     "metadata": {},
     "output_type": "execute_result"
    },
    {
     "data": {
      "image/png": "[encoded data removed]",
      "text/plain": [
       "<Figure size 432x288 with 1 Axes>"
      ]
     },
     "metadata": {
      "needs_background": "light"
     },
     "output_type": "display_data"
    }
   ],
   "source": [
    "plt.scatter(df['CustomersServed'], TotalAssetPrediction) #plots predicted Total Assets against Customers Served\n",
    "plt.xlabel(\"Customers Served (in 1000s)\")\n",
    "plt.ylabel(\"Total Assets (in $100,000s)\")\n",
    "plt.title(\"Total Assets predicted based on Customers Served\")"
   ]
  },
  {
   "cell_type": "code",
   "execution_count": 13,
   "metadata": {},
   "outputs": [],
   "source": [
    "#Based on the regression models, we can see that Flight Length and Daily Flight Time can not accurately \n",
    "#predict customers served. The adjusted R squared value is small (.595) and holds a p value greater than 0.05 for \n",
    "#daily flight time. In addition, the predicted value chart for customer served and daily flight time shows that the\n",
    "#two variables are weakly correlated with eachother. \n",
    "\n",
    "#However, the regression model for total assets and customers served does prove to be useful in predicting assets\n",
    "# based on customers served. The adjusted R squared value 0.812 with a p value of less than 0.05 \n",
    "#indicating that the data is statistically significant. Moreover, the predicted asset chart \n",
    "#shows that it is strongly correlated with customers served. The equation to predict total assests from \n",
    "#customers served is as follows: (Total Assets) = (-98.5080) + (0.0217)(CustomersServed)"
   ]
  }
 ],
 "metadata": {
  "kernelspec": {
   "display_name": "Python 3",
   "language": "python",
   "name": "python3"
  },
  "language_info": {
   "codemirror_mode": {
    "name": "ipython",
    "version": 3
   },
   "file_extension": ".py",
   "mimetype": "text/x-python",
   "name": "python",
   "nbconvert_exporter": "python",
   "pygments_lexer": "ipython3",
   "version": "3.8.5"
  }
 },
 "nbformat": 4,
 "nbformat_minor": 4
}
